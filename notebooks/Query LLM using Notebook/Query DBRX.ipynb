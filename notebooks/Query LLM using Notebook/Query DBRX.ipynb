{
 "cells": [
  {
   "cell_type": "code",
   "execution_count": 0,
   "metadata": {
    "application/vnd.databricks.v1+cell": {
     "cellMetadata": {
      "byteLimit": 2048000,
      "rowLimit": 10000
     },
     "inputWidgets": {},
     "nuid": "0852fd27-6442-4251-95d5-0dc4ab0c8c6b",
     "showTitle": false,
     "tableResultSettingsMap": {},
     "title": ""
    }
   },
   "outputs": [
    {
     "output_type": "display_data",
     "data": {
      "text/plain": [
       "QueryEndpointResponse(choices=[V1ResponseChoiceElement(finish_reason=None, index=0, logprobs=None, message=ChatMessage(content='A Mixture of Experts (MoE) model is a machine learning technique that combines the outputs of multiple \"expert\" models, each specializing in a different subset of the data, to make more accurate predictions. The model uses a \"gating network\" to determine which expert to use for a given input. The gating network learns to assign higher weights to experts that are more likely to produce accurate predictions for the input data, allowing the model to adapt to the complexity and diversity of the data. MoE models have been successfully applied in various domains, including speech recognition, natural language processing, and computer vision. They are particularly useful when dealing with large and complex datasets, as they can effectively capture the underlying patterns and relationships in the data.', role=<ChatMessageRole.ASSISTANT: 'assistant'>), text=None)], created=1737499769, data=[], id='chatcmpl_a3510142-a61d-4c48-bc2d-b1600a8cf544', model='dbrx-instruct-071224', object=<QueryEndpointResponseObject.CHAT_COMPLETION: 'chat.completion'>, predictions=None, served_model_name=None, usage=ExternalModelUsageElement(completion_tokens=149, prompt_tokens=27, total_tokens=176))"
      ]
     },
     "metadata": {},
     "output_type": "display_data"
    }
   ],
   "source": [
    "%python\n",
    "from databricks.sdk import WorkspaceClient\n",
    "from databricks.sdk.service.serving import ChatMessage, ChatMessageRole\n",
    "\n",
    "w = WorkspaceClient()\n",
    "dbrx_client = w.serving_endpoints.get(\"databricks-dbrx-instruct\")\n",
    "\n",
    "messages = [\n",
    "    ChatMessage(role=ChatMessageRole.SYSTEM, content=\"You are a helpful assistant.\"),\n",
    "    ChatMessage(role=ChatMessageRole.USER, content=\"What is a mixture of experts model?\")\n",
    "]\n",
    "\n",
    "response = w.serving_endpoints.query(\n",
    "    \"databricks-dbrx-instruct\",\n",
    "    messages=messages,\n",
    "    max_tokens=256\n",
    ")\n",
    "\n",
    "display(response)"
   ]
  }
 ],
 "metadata": {
  "application/vnd.databricks.v1+notebook": {
   "computePreferences": null,
   "dashboards": [],
   "environmentMetadata": {
    "base_environment": "",
    "client": "2"
   },
   "language": "python",
   "notebookMetadata": {
    "pythonIndentUnit": 4
   },
   "notebookName": "Query DBRX",
   "widgets": {}
  },
  "language_info": {
   "name": "python"
  }
 },
 "nbformat": 4,
 "nbformat_minor": 0
}